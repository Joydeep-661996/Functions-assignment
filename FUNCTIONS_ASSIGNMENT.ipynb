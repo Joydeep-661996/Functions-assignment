{
  "cells": [
    {
      "cell_type": "code",
      "execution_count": null,
      "metadata": {
        "id": "ZpnMzRyXdTU2"
      },
      "outputs": [],
      "source": []
    },
    {
      "cell_type": "markdown",
      "metadata": {
        "id": "RYcMpmN5dVCy"
      },
      "source": [
        "**FUNCTIONS** **ASSIGNMENT**"
      ]
    },
    {
      "cell_type": "markdown",
      "metadata": {
        "id": "5RpjIC1vdaqr"
      },
      "source": [
        "Q1.. What is the difference between a function and a method in Python?\n",
        "\n",
        "ANS: A function is an independent block of code that performs a specific task.\n",
        "It is defined using the def keyword and can be called anywhere in the program.\n",
        "Functions can exist outside of a class.\n",
        "WHEREAS A method is a function that is associated with an object (i.e., it belongs to a class)\n",
        "Methods are defined inside a class and typically operate on instance variables.\n",
        "The first parameter of a method is usually self, which represents the instance of the class"
      ]
    },
    {
      "cell_type": "markdown",
      "metadata": {
        "id": "xvRIy84Fe7v-"
      },
      "source": [
        "2. Explain the concept of function arguments and parameters in Python.\n",
        "\n",
        "ANS:  Parameters are the variables listed in the function definition.\n",
        "WHEREAS\n",
        "Arguments are the actual values passed to the function when calling it.\n",
        "\n",
        "A. Positional Arguments\n",
        "Arguments are assigned to parameters in the same order they are passed.\n",
        "\n",
        "B. Default Arguments\n",
        "Parameters can have default values, which are used if no argument is provided.\n",
        "\n",
        "C. Keyword Arguments\n",
        "Arguments are passed using parameter names, making the order irrelevant.\n",
        "\n",
        "D. Arbitrary Arguments (*args)\n",
        "Allows passing multiple positional arguments as a tuple.\n",
        "\n",
        "E. Arbitrary Keyword Arguments (**kwargs)\n",
        "Allows passing multiple keyword arguments as a dictionary."
      ]
    },
    {
      "cell_type": "markdown",
      "metadata": {
        "id": "GYmgQM38-PvH"
      },
      "source": [
        "3. What are the different ways to define and call a function in Python?\n",
        "\n",
        "ANS:    Python provides multiple ways to define and call functions, depending on the use case. Below are the key approaches:\n",
        "\n",
        "1. Defining Functions Using def\n",
        "2. Calling Functions with Different Argument Types like Positional Arguments, Keyword Arguments, Default Arguuments,Arbitary Arguments, Arbitary Keyword Arguments.\n",
        "3. Defining Anonymous Functions Using lambda-  A lambda function is a small anonymous function defined in a single line.\n",
        "4. Defining Functions Inside a Class (Methods)-  Methods are functions inside a class that operate on class instances.\n",
        "5. Recursive Functions-  A function that calls itself to solve a problem in smaller steps.\n",
        "6. Higher-Order Functions (Functions as Arguments)-  Functions can be passed as arguments to other functions.\n",
        "\n"
      ]
    },
    {
      "cell_type": "markdown",
      "metadata": {
        "id": "uy0pYW7rASt7"
      },
      "source": [
        "Q4.  What is the purpose of the `return` statement in a Python function?\n",
        "\n",
        "Ans:  The return statement in Python is used to send a value from a function back to the caller. It determines the output of the function and allows the function to pass data for further processing."
      ]
    },
    {
      "cell_type": "markdown",
      "metadata": {
        "id": "l0FSeUxmAjJl"
      },
      "source": [
        "Q5. What are iterators in Python and how do they differ from iterables?\n",
        "\n",
        "ANS:  An iterator is an object that remembers its position during iteration and provides the next value when requested.\n",
        "\n",
        "Key difference between this two is:\n",
        "Iterable\tAn object that can be iterated (e.g., list, tuple, string)\teg:\n",
        " my_list = [1, 2, 3] Whereas\n",
        "\n",
        "Iterator\tAn object that produces values one at a time\titerator = iter(my_list)"
      ]
    },
    {
      "cell_type": "markdown",
      "metadata": {
        "id": "VQaI8f3Ddqpw"
      },
      "source": []
    },
    {
      "cell_type": "markdown",
      "metadata": {
        "id": "Vx6bJYqABoIs"
      },
      "source": [
        "Q6.Explain the concept of generators in Python and how they are defined.\n",
        "\n",
        "ANS:-  Generators in Python are a special type of iterator that yield values one at a time, instead of returning them all at once. They are memory-efficient and useful for handling large datasets.\n",
        "\n",
        "A generator function is defined just like a normal function but uses yield instead of return."
      ]
    },
    {
      "cell_type": "markdown",
      "metadata": {
        "id": "2MjIDhDCCAHV"
      },
      "source": [
        "Q7.What are the advantages of using generators over regular functions?\n",
        "\n",
        "ANS:  Generators provide several benefits over regular functions, particularly in terms of performance and memory efficiency. Here are the key advantages:\n",
        "\n",
        "1. Memory Efficiency (Lazy Evaluation)\n",
        "\n",
        "2. Faster Execution (No Need to Store Results)\n",
        "\n",
        "3. Can Handle Infinite Sequences\n",
        "\n",
        "4. Simplifies Code (No Need for Manual Iterators)\n",
        "\n",
        "5. Automatically Handles State (Resumes Execution)\n"
      ]
    },
    {
      "cell_type": "markdown",
      "metadata": {
        "id": "XtAYnhPuCnTY"
      },
      "source": [
        "Q8. What is a lambda function in Python and when is it typically used?\n",
        "\n",
        "ANS: A lambda function in Python is an anonymous, single-expression function that is defined using the lambda keyword. It is often used for short, simple operations where defining a full function is unnecessary.\n",
        "\n",
        "1. When you need a small, simple function for a short period.\n",
        "2. When using higher-order functions (map(), filter(), sorted()).\n",
        "3. When writing quick throwaway functions in a script."
      ]
    },
    {
      "cell_type": "markdown",
      "metadata": {
        "id": "tC-IhAkRDMZF"
      },
      "source": [
        "Q9.Explain the purpose and usage of the `map()` function in Python.\n",
        "\n",
        "ANS: The map() function in Python is used to apply a function to each item in an iterable (such as a list, tuple, or set) and return a new iterator with the transformed values.\n",
        "\n",
        "It is used:\n",
        "\n",
        "1. When applying a function to each element of an iterable.\n",
        "2. When using built-in functions (e.g., str(), int()).\n",
        "3. When multiple iterables are involved."
      ]
    },
    {
      "cell_type": "markdown",
      "metadata": {
        "id": "pnnqbS9rDzJO"
      },
      "source": [
        "Q10.What is the difference between `map()`, `reduce()`, and `filter()` functions in Python?\n",
        "\n",
        "ANS:  These three functions are higher-order functions in Python that work with iterables.\n",
        "\n",
        "1.  map() Function\n",
        " Purpose: Applies a function to each item in an iterable and returns a new iterable with transformed values.\n",
        ". Use Case: Transforming or modifying elements.\n",
        "\n",
        "2. filter() Function\n",
        " Purpose: Filters elements in an iterable based on a condition (returns only True values).\n",
        ".Use Case: Selecting specific elements from a collection.\n",
        "\n",
        "3. reduce() Function\n",
        " Purpose: Reduces an iterable to a single cumulative value by applying a function repeatedly.\n",
        ". Use Case: Aggregating values (sum, product, min, max)."
      ]
    },
    {
      "cell_type": "markdown",
      "metadata": {
        "id": "HyUdDlcyEdOX"
      },
      "source": [
        "Q.11.  Using pen & Paper write the internal mechanism for sum operation using  reduce function on this give list:[47,11,42,13];"
      ]
    },
    {
      "cell_type": "markdown",
      "metadata": {
        "id": "beCEeWeEdZqR"
      },
      "source": [
        "The answer is uploaded in as a commit in this github file/repository above readme file"
      ]
    },
    {
      "cell_type": "markdown",
      "metadata": {
        "id": "bU_fEwfYftRI"
      },
      "source": [
        "**PRACTICAL QUESTIONS**"
      ]
    },
    {
      "cell_type": "markdown",
      "metadata": {
        "id": "ROTNLNiNf0CR"
      },
      "source": [
        "Q1. Write a Python function that takes a list of numbers as input and returns the sum of all even numbers in\n",
        "the list."
      ]
    },
    {
      "cell_type": "code",
      "execution_count": null,
      "metadata": {
        "colab": {
          "base_uri": "https://localhost:8080/"
        },
        "id": "aZpqrUd7gW84",
        "outputId": "66818811-0bf4-4ac9-833c-11aefbb5409a"
      },
      "outputs": [
        {
          "name": "stdout",
          "output_type": "stream",
          "text": [
            "74\n"
          ]
        }
      ],
      "source": [
        "def sum_of_even_numbers(numbers):\n",
        "    return sum(i for i in numbers if i % 2 == 0)\n",
        "\n",
        "numbers = [47, 11, 42, 13, 24, 8]\n",
        "result = sum_of_even_numbers(numbers)\n",
        "print(result)\n"
      ]
    },
    {
      "cell_type": "markdown",
      "metadata": {
        "id": "hjEk_UvZiqA-"
      },
      "source": [
        "Q2.. Create a Python function that accepts a string and returns the reverse of that string."
      ]
    },
    {
      "cell_type": "code",
      "execution_count": null,
      "metadata": {
        "colab": {
          "base_uri": "https://localhost:8080/"
        },
        "id": "-u_nMjz0jEHb",
        "outputId": "e1d67e6d-4cf1-4ffe-d0c6-e31bab0b0f0f"
      },
      "outputs": [
        {
          "name": "stdout",
          "output_type": "stream",
          "text": [
            "olleh\n"
          ]
        }
      ],
      "source": [
        "def reverse_string(s):\n",
        "    return s[::-1]  # using slicing\n",
        "\n",
        "string = \"hello\"\n",
        "result = reverse_string(string)\n",
        "print(result)\n"
      ]
    },
    {
      "cell_type": "markdown",
      "metadata": {
        "id": "R7ddk-aNj6qD"
      },
      "source": [
        "Q3.  Implement a Python function that takes a list of integers and returns a new list containing the squares of\n",
        "each number."
      ]
    },
    {
      "cell_type": "code",
      "execution_count": null,
      "metadata": {
        "colab": {
          "base_uri": "https://localhost:8080/"
        },
        "id": "NFakWDTfkBqC",
        "outputId": "228a16a5-97ef-4490-d754-6edec1c88594"
      },
      "outputs": [
        {
          "name": "stdout",
          "output_type": "stream",
          "text": [
            "[1, 4, 9, 16, 25]\n"
          ]
        }
      ],
      "source": [
        "def square_numbers(numbers):\n",
        "    return [num ** 2 for num in numbers]  # Using list comprehension\n",
        "\n",
        "numbers = [1, 2, 3, 4, 5]\n",
        "result = square_numbers(numbers)\n",
        "print(result)"
      ]
    },
    {
      "cell_type": "markdown",
      "metadata": {
        "id": "bKrDwOPLkm8N"
      },
      "source": [
        "Q4. Write a Python function that checks if a given number is prime or not from 1 to 200."
      ]
    },
    {
      "cell_type": "code",
      "execution_count": null,
      "metadata": {
        "colab": {
          "base_uri": "https://localhost:8080/"
        },
        "id": "pg3PozX2lizp",
        "outputId": "ef15a0ec-7dac-4b32-a315-71899e00d70f"
      },
      "outputs": [
        {
          "name": "stdout",
          "output_type": "stream",
          "text": [
            "2 3 5 7 11 13 17 19 23 29 31 37 41 43 47 53 59 61 67 71 73 79 83 89 97 101 103 107 109 113 127 131 137 139 149 151 157 163 167 173 179 181 191 193 197 199 "
          ]
        }
      ],
      "source": [
        "def is_prime(n):\n",
        "    if n < 2:\n",
        "        return False  # 0 and 1 are not prime numbers\n",
        "    for i in range(2, int(n ** 0.5) + 1):  # Check divisibility up to sqrt(n)\n",
        "        if n % i == 0:\n",
        "            return False\n",
        "    return True\n",
        "for num in range(1, 201):\n",
        "    if is_prime(num):\n",
        "        print(num, end=\" \")\n"
      ]
    },
    {
      "cell_type": "markdown",
      "metadata": {
        "id": "IiaLulZXbWhi"
      },
      "source": [
        "Q5.  Create a iterator class in Python that genertates the Fibonacchi sequence upto a specefied number of terms?"
      ]
    },
    {
      "cell_type": "code",
      "execution_count": 4,
      "metadata": {
        "colab": {
          "base_uri": "https://localhost:8080/"
        },
        "id": "pyfIuwIzcvkl",
        "outputId": "90c522b9-9a11-4bfa-e4bb-04afaafd452e"
      },
      "outputs": [
        {
          "name": "stdout",
          "output_type": "stream",
          "text": [
            "0\n",
            "1\n",
            "1\n",
            "1\n",
            "2\n",
            "3\n",
            "5\n",
            "8\n",
            "13\n",
            "21\n"
          ]
        }
      ],
      "source": [
        "class FibonacciIterator:\n",
        "    def __init__(self, n):\n",
        "        self.n = n  # Number of terms\n",
        "        self.a, self.b = 0, 1  # First two Fibonacci numbers\n",
        "        self.count = 0  # Counter to track the number of generated terms\n",
        "\n",
        "    def __iter__(self):\n",
        "        return self  # The iterator object itself\n",
        "\n",
        "    def __next__(self):\n",
        "        if self.count >= self.n:  # Stop iteration after n terms\n",
        "            raise StopIteration\n",
        "\n",
        "        if self.count == 0:\n",
        "            self.count += 1\n",
        "            return self.a\n",
        "        elif self.count == 1:\n",
        "            self.count += 1\n",
        "            return self.b\n",
        "\n",
        "        # Generate the next Fibonacci number\n",
        "        self.a, self.b = self.b, self.a + self.b\n",
        "        self.count += 1\n",
        "        return self.a\n",
        "\n",
        "# Example usage\n",
        "fib = FibonacciIterator(10)\n",
        "for num in fib:\n",
        "    print(num)\n"
      ]
    },
    {
      "cell_type": "markdown",
      "metadata": {
        "id": "Tr3oxm39efum"
      },
      "source": [
        "Q6.   Write a generator function in Python that yeilds the power of 2 upto a given exponent"
      ]
    },
    {
      "cell_type": "code",
      "execution_count": 8,
      "metadata": {
        "colab": {
          "base_uri": "https://localhost:8080/"
        },
        "id": "Bn91O4u4fC5j",
        "outputId": "beb57fd1-25b7-4913-ff48-75eb8cc22275"
      },
      "outputs": [
        {
          "name": "stdout",
          "output_type": "stream",
          "text": [
            "1\n",
            "2\n",
            "4\n",
            "8\n",
            "16\n",
            "32\n",
            "64\n",
            "128\n",
            "256\n",
            "512\n",
            "1024\n"
          ]
        }
      ],
      "source": [
        "def power_of_two(exponent):\n",
        "    for i in range(exponent + 1):\n",
        "        yield 2 ** i\n",
        "\n",
        "for num in power_of_two(10):\n",
        "    print(num)\n"
      ]
    },
    {
      "cell_type": "markdown",
      "metadata": {
        "id": "RBWVX7e_fxbQ"
      },
      "source": [
        "Q7. Impliment a generator function that reads a file line by line and yeilds each line as a string"
      ]
    },
    {
      "cell_type": "markdown",
      "metadata": {
        "id": "0WG1n21yZSCs"
      },
      "source": [
        "Q8.. Use a lambda function in Python to sort a list of tuples based on the second element of each tuple."
      ]
    },
    {
      "cell_type": "code",
      "execution_count": 3,
      "metadata": {
        "colab": {
          "base_uri": "https://localhost:8080/"
        },
        "id": "y6VVG0c1Zv53",
        "outputId": "8db59eb0-c578-4c45-c6fe-d7b402af9642"
      },
      "outputs": [
        {
          "name": "stdout",
          "output_type": "stream",
          "text": [
            "[(2, 1), (3, 2), (1, 5), (4, 8)]\n"
          ]
        }
      ],
      "source": [
        "data = [(1, 5), (3, 2), (4, 8), (2, 1)]\n",
        "\n",
        "sorted_data = sorted(data, key=lambda x: x[1])\n",
        "\n",
        "print(sorted_data)\n"
      ]
    },
    {
      "cell_type": "markdown",
      "metadata": {
        "id": "kEu3c2YSaIgO"
      },
      "source": [
        "Q9.Write a Python program that uses `map()` to convert a list of temperatures from Celsius to Fahrenheit."
      ]
    },
    {
      "cell_type": "code",
      "execution_count": 4,
      "metadata": {
        "colab": {
          "base_uri": "https://localhost:8080/"
        },
        "id": "_r1p9TlhaWNZ",
        "outputId": "e97ec546-5ede-4cc9-bfe9-52adfd99a322"
      },
      "outputs": [
        {
          "name": "stdout",
          "output_type": "stream",
          "text": [
            "[32.0, 68.0, 98.6, 212.0]\n"
          ]
        }
      ],
      "source": [
        "celsius_to_fahrenheit = lambda c: (c * 9/5) + 32\n",
        "\n",
        "celsius_temperatures = [0, 20, 37, 100]\n",
        "\n",
        "fahrenheit_temperatures = list(map(celsius_to_fahrenheit, celsius_temperatures))\n",
        "\n",
        "print(fahrenheit_temperatures)\n"
      ]
    },
    {
      "cell_type": "markdown",
      "metadata": {
        "id": "r-u0V6sYbHPu"
      },
      "source": [
        "Q10. Create a Python program that uses `filter()` to remove all the vowels from a given string.\n",
        "\n",
        "\n"
      ]
    },
    {
      "cell_type": "code",
      "execution_count": 6,
      "metadata": {
        "colab": {
          "base_uri": "https://localhost:8080/"
        },
        "id": "JzKo4EA0b2bA",
        "outputId": "b87997c4-2d76-4c43-9b77-61e224d988b4"
      },
      "outputs": [
        {
          "name": "stdout",
          "output_type": "stream",
          "text": [
            "Hll, hw r y?\n"
          ]
        }
      ],
      "source": [
        "is_not_vowel = lambda char: char.lower() not in 'aeiou'\n",
        "\n",
        "input_string = \"Hello, how are you?\"\n",
        "\n",
        "filtered_string = ''.join(filter(is_not_vowel, input_string))\n",
        "\n",
        "print(filtered_string)\n"
      ]
    },
    {
      "cell_type": "markdown",
      "metadata": {
        "id": "kpSHcjlLflnX"
      },
      "source": [
        "Q11. Imagine an accounting routine used in a book shop. It works on a list with sublists, which look like this:\n",
        "ORDER  N.O            BOOK TITLE AND AUTHOR                 QUANTITY                     PRICE\n",
        "34587                    Learning Python, mark lutz                      4                               40.95\n",
        "98762                    programing python, mark lutz                 5                               56.80\n",
        "77226                    head fist python, paul berry                     3                                32.95\n",
        "88112                     einfuhrung in python, Bernd Clein          3                                24.99\n",
        "\n",
        "Write a Python program, which returns a list with 2-tuples. Each tuple consists of the order number and the\n",
        "product of the price per item and the quantity. The product should be increased by 10,- € if the value of the\n",
        "order is smaller than 100,00 €."
      ]
    },
    {
      "cell_type": "code",
      "execution_count": 7,
      "metadata": {
        "colab": {
          "base_uri": "https://localhost:8080/"
        },
        "id": "Ez_fkeb_pcUB",
        "outputId": "64ff9d8a-d7da-47ae-ef2a-9f6427777693"
      },
      "outputs": [
        {
          "name": "stdout",
          "output_type": "stream",
          "text": [
            "[(34587, 163.8), (98762, 284.0), (77226, 108.85000000000001), (88112, 84.97)]\n"
          ]
        }
      ],
      "source": [
        "# Given list of orders\n",
        "orders = [\n",
        "    (34587, \"Learning Python, Mark Lutz\", 4, 40.95),\n",
        "    (98762, \"Programming Python, Mark Lutz\", 5, 56.80),\n",
        "    (77226, \"Head First Python, Paul Barry\", 3, 32.95),\n",
        "    (88112, \"Einführung in Python, Bernd Klein\", 3, 24.99)\n",
        "]\n",
        "\n",
        "# Function to calculate order total with adjustment\n",
        "calculate_total = lambda order: (order[0], order[2] * order[3] if order[2] * order[3] >= 100 else order[2] * order[3] + 10)\n",
        "\n",
        "# Applying map() to process the orders\n",
        "order_totals = list(map(calculate_total, orders))\n",
        "\n",
        "print(order_totals)\n"
      ]
    },
    {
      "cell_type": "markdown",
      "metadata": {
        "id": "H80RNKURpmj-"
      },
      "source": []
    }
  ],
  "metadata": {
    "colab": {
      "provenance": []
    },
    "kernelspec": {
      "display_name": "Python 3",
      "name": "python3"
    },
    "language_info": {
      "name": "python"
    }
  },
  "nbformat": 4,
  "nbformat_minor": 0
}
